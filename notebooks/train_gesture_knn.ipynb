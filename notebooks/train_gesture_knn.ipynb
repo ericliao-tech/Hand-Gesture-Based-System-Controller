{
 "cells": [
  {
   "cell_type": "code",
   "execution_count": 1,
   "id": "4957c947",
   "metadata": {},
   "outputs": [],
   "source": [
    "import pandas as pd\n",
    "from sklearn.model_selection import train_test_split\n",
    "from sklearn.neighbors import KNeighborsClassifier\n",
    "from sklearn.preprocessing import LabelEncoder\n",
    "from sklearn.metrics import classification_report\n",
    "import joblib"
   ]
  },
  {
   "cell_type": "code",
   "execution_count": 2,
   "id": "253dfe2a",
   "metadata": {},
   "outputs": [],
   "source": [
    "# 載入 CSV 手勢資料\n",
    "data = pd.read_csv(\"gesture_data.csv\")"
   ]
  },
  {
   "cell_type": "code",
   "execution_count": 3,
   "id": "4c8c9b9d",
   "metadata": {},
   "outputs": [],
   "source": [
    "# 基本檢查：空資料或欄位缺失\n",
    "if data.empty:\n",
    "    raise ValueError(\"🚨 gesture_data.csv 為空，請先執行 record_gesture.py 收集資料\")\n",
    "if \"label\" not in data.columns:\n",
    "    raise ValueError(\"🚨 缺少 label 欄位，請確認 CSV 檔案內容正確\")"
   ]
  },
  {
   "cell_type": "code",
   "execution_count": 4,
   "id": "2ce641af",
   "metadata": {},
   "outputs": [
    {
     "name": "stdout",
     "output_type": "stream",
     "text": [
      "📊 每類別樣本數：\n",
      "label\n",
      "scroll_down    66\n",
      "volume_down    55\n",
      "scroll_up      55\n",
      "volume_up      54\n",
      "Name: count, dtype: int64\n",
      "\n"
     ]
    }
   ],
   "source": [
    "# 顯示每個手勢類別樣本數\n",
    "print(\"📊 每類別樣本數：\")\n",
    "print(data[\"label\"].value_counts())\n",
    "print(\"\")"
   ]
  },
  {
   "cell_type": "code",
   "execution_count": 5,
   "id": "29675f7b",
   "metadata": {},
   "outputs": [],
   "source": [
    "# 分離特徵與標籤\n",
    "X = data.drop(\"label\", axis=1)\n",
    "y = data[\"label\"]\n",
    "\n",
    "# 將文字標籤轉換為數字\n",
    "label_encoder = LabelEncoder()\n",
    "y_encoded = label_encoder.fit_transform(y)"
   ]
  },
  {
   "cell_type": "code",
   "execution_count": 6,
   "id": "525c5cff",
   "metadata": {},
   "outputs": [],
   "source": [
    "# 切分訓練 / 測試集\n",
    "X_train, X_test, y_train, y_test = train_test_split(\n",
    "    X, y_encoded, test_size=0.2, random_state=42)"
   ]
  },
  {
   "cell_type": "code",
   "execution_count": 7,
   "id": "3ebaab5e",
   "metadata": {},
   "outputs": [
    {
     "name": "stdout",
     "output_type": "stream",
     "text": [
      "✅ 模型訓練完成！準確率：100.00%\n"
     ]
    }
   ],
   "source": [
    "# 建立並訓練 KNN 模型\n",
    "knn = KNeighborsClassifier(n_neighbors=3)\n",
    "knn.fit(X_train, y_train)\n",
    "\n",
    "# 評估準確率\n",
    "accuracy = knn.score(X_test, y_test)\n",
    "print(f\"✅ 模型訓練完成！準確率：{accuracy:.2%}\")"
   ]
  },
  {
   "cell_type": "code",
   "execution_count": 8,
   "id": "ca055036",
   "metadata": {},
   "outputs": [
    {
     "name": "stdout",
     "output_type": "stream",
     "text": [
      "✅ 模型與編碼器已儲存為 knn_model.joblib / label_encoder.joblib\n",
      "\n"
     ]
    }
   ],
   "source": [
    "# 儲存模型與標籤編碼器\n",
    "joblib.dump(knn, \"knn_model.joblib\")\n",
    "joblib.dump(label_encoder, \"label_encoder.joblib\")\n",
    "print(\"✅ 模型與編碼器已儲存為 knn_model.joblib / label_encoder.joblib\\n\")"
   ]
  },
  {
   "cell_type": "code",
   "execution_count": 9,
   "id": "3a8cc028",
   "metadata": {},
   "outputs": [
    {
     "name": "stdout",
     "output_type": "stream",
     "text": [
      "📋 分類報告：\n",
      "              precision    recall  f1-score   support\n",
      "\n",
      " scroll_down       1.00      1.00      1.00        13\n",
      "   scroll_up       1.00      1.00      1.00        15\n",
      " volume_down       1.00      1.00      1.00        10\n",
      "   volume_up       1.00      1.00      1.00         8\n",
      "\n",
      "    accuracy                           1.00        46\n",
      "   macro avg       1.00      1.00      1.00        46\n",
      "weighted avg       1.00      1.00      1.00        46\n",
      "\n"
     ]
    }
   ],
   "source": [
    "# 顯示分類報告\n",
    "print(\"📋 分類報告：\")\n",
    "print(classification_report(y_test, knn.predict(X_test), target_names=label_encoder.classes_))"
   ]
  }
 ],
 "metadata": {
  "kernelspec": {
   "display_name": "venv",
   "language": "python",
   "name": "python3"
  },
  "language_info": {
   "codemirror_mode": {
    "name": "ipython",
    "version": 3
   },
   "file_extension": ".py",
   "mimetype": "text/x-python",
   "name": "python",
   "nbconvert_exporter": "python",
   "pygments_lexer": "ipython3",
   "version": "3.10.11"
  }
 },
 "nbformat": 4,
 "nbformat_minor": 5
}
